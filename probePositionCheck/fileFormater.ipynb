{
 "cells": [
  {
   "cell_type": "code",
   "execution_count": 1,
   "metadata": {},
   "outputs": [],
   "source": [
    "import math\n",
    "import numpy as np"
   ]
  },
  {
   "cell_type": "code",
   "execution_count": 20,
   "metadata": {},
   "outputs": [
    {
     "name": "stdout",
     "output_type": "stream",
     "text": [
      "[[ 1.00000e+00  2.00000e+00 -1.09800e+00 ... -2.55836e-01  6.99697e+00\n",
      "  -5.01459e+00]\n",
      " [ 2.00000e+00  1.00000e+00  2.19600e+00 ...  3.08790e+00 -3.28254e+00\n",
      "  -2.86220e+00]\n",
      " [ 3.00000e+00  2.00000e+00 -1.09800e+00 ...  1.69444e+00 -3.05911e-01\n",
      "  -3.26388e+00]\n",
      " ...\n",
      " [ 1.35400e+03  2.00000e+00 -1.09800e+00 ... -3.17395e+00  6.22803e+00\n",
      "  -1.38992e+00]\n",
      " [ 1.35500e+03  2.00000e+00 -1.09800e+00 ... -1.33449e+00  8.38690e+00\n",
      "  -4.24726e-01]\n",
      " [ 1.35600e+03  2.00000e+00 -1.09800e+00 ...  8.58766e+00  3.53520e+00\n",
      "  -3.98995e+00]]\n"
     ]
    }
   ],
   "source": [
    "data=np.loadtxt(\"3nmTiO2.dat\")\n",
    "print(data)\n",
    "\n",
    "m=np.array([47.867,15.9999])\n",
    "r=np.array([1.96,1.52])\n",
    "name=[\"Ti\",\"O\"]\n",
    "\n",
    "f=open(\"3nmTiO2.in\",\"w\")\n",
    "for i in data:\n",
    "    atomID=int(i[1]-1)\n",
    "    f.write(str(i[0]-1)+\"\\t\")\n",
    "    f.write(str(i[3])+\"\\t\")\n",
    "    f.write(str(i[4])+\"\\t\")\n",
    "    f.write(str(i[5])+\"\\t\")\n",
    "    f.write(name[atomID]+\"\\t\")\n",
    "    f.write(str(r[atomID])+\"\\t\")\n",
    "    f.write(\"TiO2\\t0\\n\")\n",
    "f.close()\n"
   ]
  },
  {
   "cell_type": "code",
   "execution_count": 5,
   "metadata": {},
   "outputs": [
    {
     "data": {
      "text/plain": [
       "array([], dtype=float64)"
      ]
     },
     "execution_count": 5,
     "metadata": {},
     "output_type": "execute_result"
    }
   ],
   "source": []
  },
  {
   "cell_type": "code",
   "execution_count": null,
   "metadata": {},
   "outputs": [],
   "source": []
  }
 ],
 "metadata": {
  "kernelspec": {
   "display_name": "Python 3",
   "language": "python",
   "name": "python3"
  },
  "language_info": {
   "codemirror_mode": {
    "name": "ipython",
    "version": 3
   },
   "file_extension": ".py",
   "mimetype": "text/x-python",
   "name": "python",
   "nbconvert_exporter": "python",
   "pygments_lexer": "ipython3",
   "version": "3.8.10 (default, Nov 14 2022, 12:59:47) \n[GCC 9.4.0]"
  },
  "orig_nbformat": 4,
  "vscode": {
   "interpreter": {
    "hash": "e7370f93d1d0cde622a1f8e1c04877d8463912d04d973331ad4851f04de6915a"
   }
  }
 },
 "nbformat": 4,
 "nbformat_minor": 2
}
